{
  "nbformat": 4,
  "nbformat_minor": 0,
  "metadata": {
    "colab": {
      "provenance": []
    },
    "kernelspec": {
      "name": "python3",
      "display_name": "Python 3"
    },
    "language_info": {
      "name": "python"
    }
  },
  "cells": [
    {
      "cell_type": "code",
      "execution_count": 1,
      "metadata": {
        "id": "PRM65ERBYjcn"
      },
      "outputs": [],
      "source": [
        "from sklearn.cluster import KMeans\n",
        "import matplotlib.pyplot as plt\n",
        "import numpy as np"
      ]
    },
    {
      "cell_type": "code",
      "source": [
        "points = [[0.1, 0.6], [0.15, 0.71], [0.08, 0.9], [0.16, 0.85],\n",
        "          [0.2, 0.3], [0.25, 0.5], [0.24, 0.1], [0.3, 0.2]]\n",
        "\n",
        "initial_centroids = [[0.1, 0.6], [0.3, 0.2]]"
      ],
      "metadata": {
        "id": "MVvistfsYpYG"
      },
      "execution_count": 2,
      "outputs": []
    },
    {
      "cell_type": "code",
      "source": [
        "kmeans = KMeans(n_clusters=2, init=initial_centroids, n_init=1).fit(points)\n",
        "\n",
        "centroids = kmeans.cluster_centers_\n",
        "labels = kmeans.labels_"
      ],
      "metadata": {
        "id": "Ptbj3S7CYt6n"
      },
      "execution_count": 3,
      "outputs": []
    },
    {
      "cell_type": "code",
      "source": [
        "for i, centroid in enumerate(centroids):\n",
        "    points_in_cluster = [points[j] for j in range(len(points)) if labels[j] == i]\n",
        "    print(f\"Cluster {i+1}: Centroid {centroid} - Points {points_in_cluster}\")"
      ],
      "metadata": {
        "colab": {
          "base_uri": "https://localhost:8080/"
        },
        "id": "Z1T9BUHMYxXt",
        "outputId": "e1230a5d-ba4e-43de-b869-c9c9ec56d06d"
      },
      "execution_count": 4,
      "outputs": [
        {
          "output_type": "stream",
          "name": "stdout",
          "text": [
            "Cluster 1: Centroid [0.148 0.712] - Points [[0.1, 0.6], [0.15, 0.71], [0.08, 0.9], [0.16, 0.85], [0.25, 0.5]]\n",
            "Cluster 2: Centroid [0.24666667 0.2       ] - Points [[0.2, 0.3], [0.24, 0.1], [0.3, 0.2]]\n"
          ]
        }
      ]
    },
    {
      "cell_type": "code",
      "source": [
        "point_P6 = [0.25, 0.5]\n",
        "cluster_P6 = kmeans.predict([point_P6])[0]\n",
        "print(\"a) P6 belongs to Cluster: \", cluster_P6 + 1)"
      ],
      "metadata": {
        "colab": {
          "base_uri": "https://localhost:8080/"
        },
        "id": "sy6FQhwpY1Nr",
        "outputId": "76207909-a104-400a-f11f-30f54bd8e377"
      },
      "execution_count": 5,
      "outputs": [
        {
          "output_type": "stream",
          "name": "stdout",
          "text": [
            "a) P6 belongs to Cluster:  1\n"
          ]
        }
      ]
    },
    {
      "cell_type": "code",
      "source": [
        "cluster_m2_points = [points[i] for i in range(len(points)) if labels[i] == 1]\n",
        "population_m2 = len(cluster_m2_points)\n",
        "print(\"b) Population of cluster around m2 (Cluster 2): \", population_m2)"
      ],
      "metadata": {
        "colab": {
          "base_uri": "https://localhost:8080/"
        },
        "id": "87ZT18_XY37c",
        "outputId": "d114ac77-d658-4a53-dc97-43fc29bf062e"
      },
      "execution_count": 6,
      "outputs": [
        {
          "output_type": "stream",
          "name": "stdout",
          "text": [
            "b) Population of cluster around m2 (Cluster 2):  3\n"
          ]
        }
      ]
    },
    {
      "cell_type": "code",
      "source": [
        "m1_new = centroids[0]\n",
        "m2_new = centroids[1]\n",
        "print(\"c) Updated value of m1 (Cluster 1): \", m1_new)\n",
        "print(\"c) Updated value of m2 (Cluster 2): \", m2_new)"
      ],
      "metadata": {
        "colab": {
          "base_uri": "https://localhost:8080/"
        },
        "id": "PpWqk2mOY6LS",
        "outputId": "4d468fd1-75d1-4321-f3c1-f7f7b2c6f0ec"
      },
      "execution_count": 7,
      "outputs": [
        {
          "output_type": "stream",
          "name": "stdout",
          "text": [
            "c) Updated value of m1 (Cluster 1):  [0.148 0.712]\n",
            "c) Updated value of m2 (Cluster 2):  [0.24666667 0.2       ]\n"
          ]
        }
      ]
    },
    {
      "cell_type": "code",
      "source": [
        "# Convert lists to numpy arrays\n",
        "points = np.array(points)\n",
        "labels = np.array(labels)\n",
        "centroids = np.array(centroids)\n",
        "point_P6 = np.array(point_P6)\n",
        "\n",
        "# Extract points for each cluster using boolean indexing\n",
        "cluster1_points = points[labels == 0]\n",
        "cluster2_points = points[labels == 1]\n",
        "\n",
        "# Plotting\n",
        "plt.scatter(cluster1_points[:, 0], cluster1_points[:, 1], color='red', label='Cluster 1')\n",
        "plt.scatter(cluster2_points[:, 0], cluster2_points[:, 1], color='blue', label='Cluster 2')\n",
        "plt.scatter(centroids[:, 0], centroids[:, 1], color='black', marker='x', label='Centroids')\n",
        "plt.scatter(point_P6[0], point_P6[1], color='green', marker='*', label='P6')\n",
        "plt.xlabel('Feature 1')\n",
        "plt.ylabel('Feature 2')\n",
        "plt.title('K-Means Clustering')\n",
        "plt.legend()\n",
        "plt.show()"
      ],
      "metadata": {
        "id": "Dy0aW_uKY9bb",
        "outputId": "9d0aa866-ab35-4fc5-d116-8a6d9c63331e",
        "colab": {
          "base_uri": "https://localhost:8080/",
          "height": 472
        }
      },
      "execution_count": 8,
      "outputs": [
        {
          "output_type": "display_data",
          "data": {
            "text/plain": [
              "<Figure size 640x480 with 1 Axes>"
            ],
            "image/png": "[encoded data removed]"
          },
          "metadata": {}
        }
      ]
    }
  ]
}